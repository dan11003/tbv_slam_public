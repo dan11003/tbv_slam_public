{
 "cells": [
  {
   "cell_type": "code",
   "execution_count": 5,
   "id": "41a41dfe-ab35-4bdc-b261-6acea39d42d8",
   "metadata": {},
   "outputs": [
    {
     "name": "stdout",
     "output_type": "stream",
     "text": [
      "opening the following files:\n",
      "./data/traj_and_results/mulran_eval_2022-09-21_14-35_slam_eval.csv\n",
      "./data/traj_and_results/mulran_eval_2022-09-21_14-35_odometry_eval.csv\n"
     ]
    }
   ],
   "source": [
    "import pandas as pd\n",
    "import seaborn as sns\n",
    "import matplotlib.pyplot as plt\n",
    "import numpy as np\n",
    "import csv\n",
    "import math\n",
    "from pandas.api.types import CategoricalDtype\n",
    "import glob\n",
    "\n",
    "sns.set_theme(style=\"ticks\", color_codes=True)\n",
    "sns.set(style=\"ticks\")\n",
    "\n",
    "def LoadData(base_dir):\n",
    "    dfs = []\n",
    "    search_string=\"*slam_eval.csv\"\n",
    "    print(\"opening the following files:\")\n",
    "    for filename in glob.glob(base_dir+search_string, recursive=True):\n",
    "        print(filename)\n",
    "        df = pd.read_csv(filename, index_col=None, header=0, skipinitialspace=True)\n",
    "        dfs.append(df)\n",
    "    \n",
    "    search_string=\"*odometry_eval.csv\"\n",
    "    for filename in glob.glob(base_dir+search_string, recursive=True):\n",
    "        print(filename)\n",
    "        df = pd.read_csv(filename, index_col=None, header=0, skipinitialspace=True)\n",
    "        dfs.append(df)\n",
    "    return pd.concat(dfs, axis=0, ignore_index=True)\n",
    "    \n",
    "###### LOAD DATA ############\n",
    "baseline='./data/traj_and_results/'\n",
    "df=LoadData(baseline)\n",
    "\n",
    "df = df.rename(columns={'resolution r': 'resolution r [m]'})\n",
    "df['for_copy'] = df.apply (lambda row: \"{:2.2f}\".format(row[\"Trans.err.(%)\"])+\"/\"+\"{:2.2f}\".format(row[\"Rot.err.(deg/100m)\"]) , axis=1)\n",
    "df['for_copy_ATE'] = df.apply (lambda row: \"{:2.2f}\".format(100*row[\"RPE(m)\"])+\"/\"+\"{:2.2f}\".format(row[\"ATE(m)\"]) , axis=1)\n",
    "df['for_copy_RMSE'] = df.apply (lambda row: \"{:2.2f}\".format(100*row[\"RMSE (m)\"]) , axis=1)\n",
    "rpe_rmse_mean = \"{:2.2f}\".format(100*df[\"RMSE (m)\"].mean())"
   ]
  },
  {
   "cell_type": "code",
   "execution_count": null,
   "id": "031c721b-c837-4443-a91a-15dd97101619",
   "metadata": {},
   "outputs": [],
   "source": [
    "## USE EITHER ## \n",
    "## MULRAN     ##\n",
    "df=df[df[\"dataset\"]==\"Mulran\"]\n",
    "cat_size_order = CategoricalDtype(\n",
    "    ['KAIST01','KAIST02','KAIST03','DCC01','DCC02','DCC03','Riverside01','Riverside02','Riverside03'], \n",
    "    ordered=True\n",
    ")\n",
    "df['sequence'] = df[\"sequence\"].astype(cat_size_order)\n",
    "df=df.sort_values('sequence')\n",
    "##############################"
   ]
  },
  {
   "cell_type": "code",
   "execution_count": null,
   "id": "d9983b71",
   "metadata": {},
   "outputs": [],
   "source": [
    "####  OR     ####\n",
    "####  OXFORD ####\n",
    "df=df[df[\"dataset\"]==\"oxford\"]\n",
    "df['sequence'] = df.apply (lambda row: str(row[\"sequence\"])[8:-20], axis=1)\n",
    "cat_size_order = CategoricalDtype(\n",
    "    [\"10-12-32\", \"16-13-09\", \"17-13-26\", \"18-14-14\", \"18-15-20\", \"10-11-46\", \"16-11-53\",\"18-14-46\"], \n",
    "    ordered=True\n",
    ")\n",
    "df['sequence'] = df[\"sequence\"].astype(cat_size_order)\n",
    "df=df.sort_values(['sequence','method'])\n",
    "##############################\n",
    "  "
   ]
  },
  {
   "cell_type": "code",
   "execution_count": null,
   "id": "e4570a80-f7a5-4511-aa40-9fde6f6d1700",
   "metadata": {},
   "outputs": [],
   "source": [
    "with open(baseline + \"eval_pars.csv\", 'r') as f:\n",
    "    lines = f.readlines()\n",
    "f.close()\n",
    "\n",
    "parameters = {}\n",
    "for line in lines:\n",
    "    if len(line) <= 1:\n",
    "        continue\n",
    "    line = line.rstrip('\\n').split(',')\n",
    "    if len(line[1:]) > 1:\n",
    "        parameters[line[0]] = line[1:]\n",
    "print(parameters)\n",
    "\n",
    "for par in parameters:\n",
    "\n",
    "    g = sns.catplot(x=par, y=\"Trans.err.(%)\",\n",
    "                    data=df, saturation=.5,\n",
    "                    kind=\"bar\", ci=None, aspect=1)\n",
    "    g.set_xticklabels(rotation=90)\n",
    "\n",
    "    g = sns.catplot(x=par, y=\"Rot.err.(deg/100m)\",\n",
    "                    data=df, saturation=.5,\n",
    "                    kind=\"bar\", ci=None, aspect=1)\n",
    "    g.set_xticklabels(rotation=90)\n",
    "\n",
    "    g = sns.catplot(x=par, y=\"RPE(m)\",\n",
    "                    data=df, saturation=.5,\n",
    "                    kind=\"bar\", ci=None, aspect=1)\n",
    "    g.set_xticklabels(rotation=90)\n",
    "\n",
    "\n",
    "    g = sns.catplot(x=par, y=\"RMSE (m)\",\n",
    "                    data=df, saturation=.5,\n",
    "                    kind=\"bar\", ci=None, aspect=1)\n",
    "    g.set_xticklabels(rotation=90)"
   ]
  },
  {
   "cell_type": "code",
   "execution_count": 8,
   "id": "1933027a",
   "metadata": {},
   "outputs": [
    {
     "name": "stdout",
     "output_type": "stream",
     "text": [
      "Methods\n",
      "['TBV SLAM-1' 'cfear-x']\n",
      "\n",
      "-----------------------------------------------\n",
      "Odometry drift [translaton/rotaiton]\n",
      "Average time per frame [ms]\n",
      "-----------------------------------------------\n",
      "Sequences:           DCC01 &  Riverside01 &  KAIST01\n",
      "Odometry error transl[m/m]/rot[deg/100m]\n",
      "TBV SLAM-1:   3.11/0.88 & 2.51/0.68 & 1.63/0.49 & mean: 2.42/0.68\n",
      "registration time [ms]\n",
      "TBV SLAM-1:   nanms, filtering: nanms, total: nanms, framerate: nanHz\n",
      "\n",
      "Odometry error transl[m/m]/rot[deg/100m]\n",
      "cfear-x:   2.07/0.29 & 1.22/0.34 & 1.07/0.32 & mean: 1.45/0.32\n",
      "registration time [ms]\n",
      "cfear-x:   100283657632.03ms, filtering: 7.78ms, total: 100283657639.8ms, framerate: 0.0Hz\n",
      "\n",
      "\n",
      "-----------------------------------------------\n",
      "\n",
      "RPE (Mean) and ATE (RMSE) (Aligned) \n",
      "\n",
      "-----------------------------------------------\n",
      "\n",
      "RPE Mean [cm]/ATE-RMSE [m]: \n",
      "TBV SLAM-1:   7.94/10.17 & 6.20/5.79 & 6.19/3.41 & mean: 6.78/6.46\n",
      "RPE-RMSE [cm]: \n",
      "TBV SLAM-1:   8.99 & 7.33 & 8.13 & mean: 8.15\n",
      "\n",
      "\n",
      "RPE Mean [cm]/ATE-RMSE [m]: \n",
      "cfear-x:   7.55/6.39 & 5.72/6.45 & 5.92/7.53 & mean: 6.40/6.79\n",
      "RPE-RMSE [cm]: \n",
      "cfear-x:   8.47 & 6.69 & 7.52 & mean: 7.56\n",
      "\n",
      "\n"
     ]
    },
    {
     "data": {
      "image/png": "[encoded data removed]",
      "text/plain": [
       "<Figure size 360x360 with 1 Axes>"
      ]
     },
     "metadata": {},
     "output_type": "display_data"
    },
    {
     "data": {
      "image/png": "[encoded data removed]",
      "text/plain": [
       "<Figure size 360x360 with 1 Axes>"
      ]
     },
     "metadata": {},
     "output_type": "display_data"
    },
    {
     "data": {
      "image/png": "[encoded data removed]",
      "text/plain": [
       "<Figure size 360x360 with 1 Axes>"
      ]
     },
     "metadata": {},
     "output_type": "display_data"
    },
    {
     "data": {
      "image/png": "[encoded data removed]",
      "text/plain": [
       "<Figure size 360x360 with 1 Axes>"
      ]
     },
     "metadata": {},
     "output_type": "display_data"
    }
   ],
   "source": [
    "df['method'] = df['method'].fillna(\"TBV SLAM-1\")\n",
    "g = sns.catplot(x=\"method\", y=\"Trans.err.(%)\",\n",
    "                data=df, saturation=.5,\n",
    "                kind=\"bar\", ci=None, aspect=1)\n",
    "g.set_xticklabels(rotation=90)\n",
    "\n",
    "g = sns.catplot(x=\"method\", y=\"Rot.err.(deg/100m)\",\n",
    "                data=df, saturation=.5,\n",
    "                kind=\"bar\", ci=None, aspect=1)\n",
    "g.set_xticklabels(rotation=90)\n",
    "\n",
    "g = sns.catplot(x=\"method\", y=\"RPE(m)\",\n",
    "                data=df, saturation=.5,\n",
    "                kind=\"bar\", ci=None, aspect=1)\n",
    "g.set_xticklabels(rotation=90)\n",
    "\n",
    "\n",
    "g = sns.catplot(x=\"method\", y=\"RMSE (m)\",\n",
    "                data=df, saturation=.5,\n",
    "                kind=\"bar\", ci=None, aspect=1)\n",
    "g.set_xticklabels(rotation=90)\n",
    "\n",
    "methods=df['method'].unique()\n",
    "print(\"Methods\")\n",
    "print(methods)\n",
    "print(\"\\n-----------------------------------------------\")\n",
    "print(\"Odometry drift [translaton/rotaiton]\")\n",
    "print(\"Average time per frame [ms]\")\n",
    "print(\"-----------------------------------------------\")\n",
    "for method in [methods[0]]:\n",
    "    dfm=df[df[\"method\"]==method]\n",
    "    print(\"Sequences:           \"+\" &  \".join(dfm[\"sequence\"].values) )\n",
    "for method in methods:\n",
    "    dfm=df[df[\"method\"]==method]\n",
    "    if(dfm.shape[0]>0):\n",
    "        trans_mean = \"{:2.2f}\".format(dfm[\"Trans.err.(%)\"].mean())\n",
    "        rot_mean = \"{:2.2f}\".format(dfm[\"Rot.err.(deg/100m)\"].mean())\n",
    "        reg_time = \"{:2.2f}ms\".format(dfm[\"Registration avg\"].mean())\n",
    "        filtering_time = \"{:2.2f}ms\".format(dfm[\"Filtering avg\"].mean())\n",
    "        total = \"{:2.1f}ms\".format(dfm[\"Filtering avg\"].mean() + dfm[\"Registration avg\"].mean())\n",
    "        framerate = \"{:2.1f}Hz\".format(1000.0/(dfm[\"Filtering avg\"].mean() + dfm[\"Registration avg\"].mean()))\n",
    "        print(\"Odometry error transl[m/m]/rot[deg/100m]\")\n",
    "        print(method + \":   \"+\" & \".join(dfm[\"for_copy\"].values) + \" & mean: \" + trans_mean + \"/\" + rot_mean)\n",
    "        print(\"registration time [ms]\")\n",
    "        print(method + \":   \" + reg_time + \", filtering: \" + filtering_time + \", total: \" + total + \", framerate: \" + framerate)\n",
    "        print(\"\")\n",
    "print(\"\\n-----------------------------------------------\\n\")\n",
    "print(\"RPE (Mean) and ATE (RMSE) (Aligned) \\n\")\n",
    "print(\"-----------------------------------------------\\n\")\n",
    "for method in methods:\n",
    "    dfm=df[df[\"method\"]==method]\n",
    "    if(dfm.shape[0]>0):\n",
    "        ate_mean = \"{:2.2f}\".format(dfm[\"ATE(m)\"].mean())\n",
    "        rpe_mean = \"{:2.2f}\".format(100*dfm[\"RPE(m)\"].mean())\n",
    "        rpe_rmse_mean = \"{:2.2f}\".format(100*dfm[\"RMSE (m)\"].mean())\n",
    "        print(\"RPE Mean [cm]/ATE-RMSE [m]: \")\n",
    "        print(method+\":   \"+\" & \".join(dfm[\"for_copy_ATE\"].values) + \" & mean: \" + rpe_mean + \"/\" + ate_mean)\n",
    "        print(\"RPE-RMSE [cm]: \")\n",
    "        print(method+\":   \"+\" & \".join(dfm[\"for_copy_RMSE\"].values) + \" & mean: \" + rpe_rmse_mean)\n",
    "        print(\"\\n\")\n",
    "        \n",
    "        \n",
    "        "
   ]
  }
 ],
 "metadata": {
  "kernelspec": {
   "display_name": "Python 3.8.10 64-bit",
   "language": "python",
   "name": "python3"
  },
  "language_info": {
   "codemirror_mode": {
    "name": "ipython",
    "version": 3
   },
   "file_extension": ".py",
   "mimetype": "text/x-python",
   "name": "python",
   "nbconvert_exporter": "python",
   "pygments_lexer": "ipython3",
   "version": "3.8.10"
  },
  "vscode": {
   "interpreter": {
    "hash": "916dbcbb3f70747c44a77c7bcd40155683ae19c65e1c03b4aa3499c5328201f1"
   }
  }
 },
 "nbformat": 4,
 "nbformat_minor": 5
}
